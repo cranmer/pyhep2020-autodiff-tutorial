{
 "cells": [
  {
   "cell_type": "code",
   "execution_count": 5,
   "metadata": {},
   "outputs": [],
   "source": [
    "import jax\n",
    "import jaxlib\n",
    "import matplotlib.pyplot as plt\n",
    "import numpy as np\n",
    "import jax.numpy as jnp"
   ]
  },
  {
   "cell_type": "markdown",
   "metadata": {},
   "source": [
    "## PyHEP 2020 -- Tutorial on Automatic Differentiation\n",
    "\n",
    "\n",
    "Welcome to this tutorial on automatic differentiation\n",
    "\n",
    "\n",
    "\n"
   ]
  },
  {
   "cell_type": "markdown",
   "metadata": {},
   "source": [
    "## Short Preface on Linear Transformations\n",
    "\n",
    "Before we start, let's first look at *linear transformations** from ℝᵐ → ℝⁿ:\n",
    "$$y(x) = Ax$$\n",
    "\n",
    "With a given basis, this is representable as a (rectangular0 matrix: \n",
    "$$y_i(x) = A_{ij}x_j$$\n",
    "\n",
    "\n",
    "For a given linear problem, there are few ways we can run this computation\n",
    "\n",
    "\n",
    "1. **full matrix computation**\n",
    "\n",
    "   i.e. we store the full (dense) $nm$ elements of the rectangular matrix and \n",
    "   compute an explicit matrix multiplication.\n",
    "   \n",
    "   The computation can be fully generic for any matrix\n",
    "   \n",
    "```python\n",
    "    def result(matrix, vector):\n",
    "        return np.matmul(matrix,vector)\n",
    "```\n",
    "<br/>\n",
    "\n",
    "2. **sparse matrix computation**\n",
    "\n",
    "   If many $A_ij=0$, it might be wasteful to expend memory on them. We can just \n",
    "   create a sparse matrix, by\n",
    "   \n",
    "   * storing only the non-zerro elements \n",
    "   * storing a look-up table, where those elements are in the matrix\n",
    "   \n",
    "   The computation can be kept general\n",
    "\n",
    "```python\n",
    "    def result(sparse_matrix, vector):\n",
    "        return sparse_matmul(sparse_matrix,vector)\n",
    "```\n",
    "\n",
    "<br/>\n",
    "   \n",
    "3. **matrix-free computation**\n",
    "\n",
    "    In many cases a linear program is not explicitly given by a Matrix, but it's\n",
    "    given as *code* / a \"black-box\" function. As long as the computation in the body of \n",
    "    keeps to (hard-coded) linear transformation the program is linear. The matrix elements\n",
    "    are no longer explicitly enumerated and stored in a data structure\n",
    "    but implicitly defined in the source code.\n",
    "    \n",
    "    This is not anymore a generic computation, but each linear transformation is its own\n",
    "    program. At the same time this is also the most memory efficient  representation. No\n",
    "    lookup table is needed since all constants are hard-coded.\n",
    "    \n",
    "    \n",
    "```python\n",
    "    def linear_program(vector):\n",
    "        z1,z2 = 0,0\n",
    "        z1 += A_11*x1\n",
    "        z2 += A_12*x2\n",
    "        z2 += A_22*x2\n",
    "        return [z1,z2]\n",
    "```\n",
    "\n",
    "\n",
    "\n",
    "\n"
   ]
  },
  {
   "cell_type": "markdown",
   "metadata": {},
   "source": [
    "### Recovering Matrix Elements from matrix-free computations\n",
    "\n",
    "\n",
    "#### Matrix-vector products\n",
    "\n",
    "In the matrix-free setting, the program does not give access to the matrix elements,\n",
    "but only computes \"matrix-vector\" products (MVP)\n",
    "\n",
    "We can use basis vectors to recover the matrix **one column at a time**\n",
    "\n",
    "<img src=\"./assets/mvp.png\" alt=\"A Matrix Vector Product\" width=\"600\"/>\n",
    "\n"
   ]
  },
  {
   "cell_type": "code",
   "execution_count": 6,
   "metadata": {},
   "outputs": [
    {
     "name": "stdout",
     "output_type": "stream",
     "text": [
      "M derived from matrix-vector products:\n",
      "[[2 0 0]\n",
      " [0 1 3]]\n"
     ]
    }
   ],
   "source": [
    "def matrix_vector_product(x):\n",
    "    x1,x2,x3 = x\n",
    "    z1,z2 = 0,0\n",
    "    z1 += 2*x1  #MVP statement 1\n",
    "    z2 += 1*x2  #MVP statement 2\n",
    "    z2 += 3*x3  #MVP statement 3\n",
    "    return np.asarray([z1,z2])\n",
    "\n",
    "M = np.concatenate([\n",
    "    matrix_vector_product(np.asarray([1,0,0])).reshape(-1,1),\n",
    "    matrix_vector_product(np.asarray([0,1,0])).reshape(-1,1),\n",
    "    matrix_vector_product(np.asarray([0,0,1])).reshape(-1,1),\n",
    "],axis=1)\n",
    "print(f'M derived from matrix-vector products:\\n{M}')"
   ]
  },
  {
   "cell_type": "markdown",
   "metadata": {},
   "source": [
    "#### Vector Matrix product (VMP)\n",
    "\n",
    "The same matrix induces a \"dual\" linear map: ℝⁿ → ℝᵐ \n",
    "$$ x_k = y_i A_{ik}$$\n",
    "\n",
    "i.e. instead of a Matrix-vector product it's now a *vector-Matrix* product (VMP)\n",
    "\n",
    "If one has access to a \"vector-Matrix\" program corresponding to a matrix $A$ one\n",
    "can again -- as in the MVP-case -- recover the matrix elements, by feeding in basis vectors.\n",
    "\n",
    "This time the matrix is built **one row at a time**\n"
   ]
  },
  {
   "cell_type": "markdown",
   "metadata": {},
   "source": [
    "<img src=\"./assets/vmp.png\" alt=\"A Matrix Vector Product\" width=\"600\"/>"
   ]
  },
  {
   "cell_type": "code",
   "execution_count": 9,
   "metadata": {},
   "outputs": [
    {
     "name": "stdout",
     "output_type": "stream",
     "text": [
      "M derived from vector-matix products:\n",
      "[[2 0 0]\n",
      " [0 1 3]]\n"
     ]
    }
   ],
   "source": [
    "def vector_matrix_product(z):\n",
    "    x1,x2,x3 = 0,0,0\n",
    "    z1,z2 = z\n",
    "\n",
    "    x3 += z2*3 #VMP version of statement 3\n",
    "    x2 += z2*1 #VMP version of statement 2\n",
    "    x1 += z1*2 #VMP version of statement 1\n",
    "\n",
    "    return np.asarray([x1,x2,x3])\n",
    "\n",
    "\n",
    "M = np.concatenate([\n",
    "    vector_matrix_product(np.asarray([1,0])).reshape(1,-1),\n",
    "    vector_matrix_product(np.asarray([0,1])).reshape(1,-1),\n",
    "],axis=0)\n",
    "print(f'M derived from vector-matix products:\\n{M}')"
   ]
  },
  {
   "cell_type": "markdown",
   "metadata": {},
   "source": [
    "#### Short Recap:\n",
    "\n",
    "For a given linear transformation, characterized by a matrix $A_{ij}$ we have a forward (matrix-vector) and backward (vector-matrix) map $$y_i = A_{ij}x_k$$ $$x_j = y_i A_{ij}$$\n",
    "\n",
    "and we can use either to recover the full matrix $A_{ij}$"
   ]
  },
  {
   "cell_type": "markdown",
   "metadata": {},
   "source": [
    "## Wide versus Tall Transformation\n",
    "\n",
    "If you look at the code above, you'll notice that the number of calls necessary to the MVP or VMP program\n",
    "is related to the dimensions of matrix itself.\n",
    "\n",
    "For a $n\\times m$ matrix (for a map: ℝᵐ → ℝⁿ), you need as $m$ calls to the \"Matrix-vector\" program to \n",
    "built the full matrix one-column-at-a-time. Likewise you need $n$ calls to the \"vector-Matrix\" program\n",
    "to build the matrix one-row-at-a-time.\n",
    "\n",
    "This becomes relevant for very asymmetric maps: e.g. scalar maps from very high-dimensional spaces\n",
    "$\\mathbb{R}^{10000} \\to \\mathbb{R}$ the \"vector-Matrix\" appraoch is *vastly* more efficient than the\n",
    "\"Matrix-vector one.\n",
    "\n",
    "Similarly, functions mapping few variables into very high dimensional spaces $\\mathbb{R} \\to \\mathbb{R}^{10000}$\n",
    "it's the opposite: the \"Matrix-vector\" approach is much better suited than the \"vector-Matrix\" one.\n",
    "\n",
    "\n"
   ]
  },
  {
   "cell_type": "code",
   "execution_count": 10,
   "metadata": {},
   "outputs": [
    {
     "data": {
      "text/plain": [
       "array([[2, 4, 9],\n",
       "       [6, 6, 9]])"
      ]
     },
     "execution_count": 10,
     "metadata": {},
     "output_type": "execute_result"
    }
   ],
   "source": [
    "A = np.random.randint(0,10,size = (2,3))\n",
    "A"
   ]
  },
  {
   "cell_type": "code",
   "execution_count": null,
   "metadata": {},
   "outputs": [],
   "source": []
  },
  {
   "cell_type": "code",
   "execution_count": null,
   "metadata": {},
   "outputs": [],
   "source": []
  },
  {
   "cell_type": "code",
   "execution_count": null,
   "metadata": {},
   "outputs": [],
   "source": []
  },
  {
   "cell_type": "code",
   "execution_count": null,
   "metadata": {},
   "outputs": [],
   "source": []
  }
 ],
 "metadata": {
  "kernelspec": {
   "display_name": "Python 3",
   "language": "python",
   "name": "python3"
  },
  "language_info": {
   "codemirror_mode": {
    "name": "ipython",
    "version": 3
   },
   "file_extension": ".py",
   "mimetype": "text/x-python",
   "name": "python",
   "nbconvert_exporter": "python",
   "pygments_lexer": "ipython3",
   "version": "3.7.2"
  }
 },
 "nbformat": 4,
 "nbformat_minor": 2
}
